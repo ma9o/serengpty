{
 "cells": [
  {
   "cell_type": "code",
   "execution_count": null,
   "metadata": {},
   "outputs": [],
   "source": [
    "from data_pipeline.assets.ai_conversations.utils.find_top_k_users import (\n",
    "  get_approx_bipartite_match,\n",
    "  get_bipartite_match,\n",
    "  load_user_embeddings,\n",
    ")"
   ]
  },
  {
   "cell_type": "code",
   "execution_count": null,
   "metadata": {},
   "outputs": [],
   "source": [
    "from timeit import timeit\n",
    "\n",
    "\n",
    "_, embeddings1 = load_user_embeddings(\"cm831cb2o0000s72w7oxnk7yk\")\n",
    "_, embeddings2 = load_user_embeddings(\"cm831d09t0001s72w2s4x10vf\")"
   ]
  },
  {
   "cell_type": "code",
   "execution_count": null,
   "metadata": {},
   "outputs": [],
   "source": [
    "print(\"get_bipartite_match\", timeit(lambda: get_bipartite_match(embeddings1, embeddings2), number=1))\n",
    "\n",
    "print(\"get_approx_bipartite_match\", timeit(lambda: get_approx_bipartite_match(embeddings1, embeddings2), number=1))"
   ]
  }
 ],
 "metadata": {
  "kernelspec": {
   "display_name": ".venv",
   "language": "python",
   "name": "python3"
  },
  "language_info": {
   "codemirror_mode": {
    "name": "ipython",
    "version": 3
   },
   "file_extension": ".py",
   "mimetype": "text/x-python",
   "name": "python",
   "nbconvert_exporter": "python",
   "pygments_lexer": "ipython3",
   "version": "3.12.7"
  }
 },
 "nbformat": 4,
 "nbformat_minor": 2
}