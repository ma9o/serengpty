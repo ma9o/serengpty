{
 "cells": [
  {
   "cell_type": "code",
   "execution_count": null,
   "metadata": {},
   "outputs": [],
   "source": [
    "from pathlib import Path\n",
    "import polars as pl\n",
    "from dtale import show\n",
    "import dtale.global_state as global_state\n",
    "\n",
    "global_state.set_app_settings(dict(max_column_width=300))\n",
    "\n",
    "data_dir = Path().absolute() / \"..\" / \"data\""
   ]
  },
  {
   "cell_type": "code",
   "execution_count": null,
   "metadata": {},
   "outputs": [],
   "source": [
    "import pandas as pd\n",
    "nodes_df = pd.read_json(\"/Users/ma9o/Desktop/serengpty/apps/data-pipeline/data/api/cm82yhovv00tqs7r8df4yl761/openai/latest.json\")\n",
    "#nodes_df = pd.read_json(data_dir / \"/Users/ma9o/Downloads/d4778ffcb6aaa6d243699e73816d6f8011e5671c436e4ecbb7c06294d7972068-2025-02-24-16-47-02-b6ca04d0d09d4881a934d224880e6a07/conversations.json\", orient=\"records\")\n",
    "show(nodes_df).open_browser()\n"
   ]
  },
  {
   "cell_type": "code",
   "execution_count": null,
   "metadata": {},
   "outputs": [],
   "source": [
    "nodes_df = pl.read_parquet(data_dir / \"dagster/parsed_conversations/cm831d09t0001s72w2s4x10vf.snappy\")\n",
    "show(nodes_df.to_pandas()).open_browser()\n"
   ]
  },
  {
   "cell_type": "code",
   "execution_count": null,
   "metadata": {},
   "outputs": [],
   "source": [
    "clusters_df = pl.read_parquet(data_dir / \"dagster/serendipity_optimized/cm831d09t0001s72w2s4x10vf.snappy\")\n",
    "show(clusters_df.to_pandas()).open_browser()\n"
   ]
  },
  {
   "cell_type": "code",
   "execution_count": null,
   "metadata": {},
   "outputs": [],
   "source": [
    "clusters_df"
   ]
  },
  {
   "cell_type": "code",
   "execution_count": null,
   "metadata": {},
   "outputs": [],
   "source": []
  }
 ],
 "metadata": {
  "kernelspec": {
   "display_name": ".venv",
   "language": "python",
   "name": "python3"
  },
  "language_info": {
   "codemirror_mode": {
    "name": "ipython",
    "version": 3
   },
   "file_extension": ".py",
   "mimetype": "text/x-python",
   "name": "python",
   "nbconvert_exporter": "python",
   "pygments_lexer": "ipython3",
   "version": "3.12.7"
  }
 },
 "nbformat": 4,
 "nbformat_minor": 2
}