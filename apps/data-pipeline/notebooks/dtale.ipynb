{
 "cells": [
  {
   "cell_type": "code",
   "execution_count": null,
   "metadata": {},
   "outputs": [],
   "source": [
    "from pathlib import Path\n",
    "import polars as pl\n",
    "from dtale import show\n",
    "import dtale.global_state as global_state\n",
    "\n",
    "global_state.set_app_settings(dict(max_column_width=300))\n",
    "\n",
    "data_dir = Path().absolute() / \"..\" / \"data\""
   ]
  },
  {
   "cell_type": "code",
   "execution_count": null,
   "metadata": {},
   "outputs": [],
   "source": [
    "# 1: cm8d57u6n000019t543zqedo9\n",
    "# 2: cm8d589he000119t5n3i8w78j\n",
    "clusters_df = pl.read_parquet(data_dir / \"dagster/conversation_summaries/cm8d57u6n000019t543zqedo9.snappy\")\n",
    "show(clusters_df.to_pandas()).open_browser()\n"
   ]
  },
  {
   "cell_type": "code",
   "execution_count": null,
   "metadata": {},
   "outputs": [],
   "source": []
  }
 ],
 "metadata": {
  "kernelspec": {
   "display_name": ".venv",
   "language": "python",
   "name": "python3"
  },
  "language_info": {
   "codemirror_mode": {
    "name": "ipython",
    "version": 3
   },
   "file_extension": ".py",
   "mimetype": "text/x-python",
   "name": "python",
   "nbconvert_exporter": "python",
   "pygments_lexer": "ipython3",
   "version": "3.12.7"
  }
 },
 "nbformat": 4,
 "nbformat_minor": 2
}